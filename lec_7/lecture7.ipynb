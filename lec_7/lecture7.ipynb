{
 "cells": [
  {
   "cell_type": "markdown",
   "metadata": {},
   "source": [
    "Задание 1\n",
    "Печатные газеты использовали свой формат дат для каждого выпуска. Для каждой газеты из списка напишите формат указанной даты для перевода в объект datetime:\n",
    "The Moscow Times - Wednesday, October 2, 2002\n",
    "The Guardian - Friday, 11.10.13\n",
    "Daily News - Thursday, 18 August 1977"
   ]
  },
  {
   "cell_type": "code",
   "execution_count": 1,
   "metadata": {},
   "outputs": [
    {
     "name": "stdout",
     "output_type": "stream",
     "text": [
      "<class 'datetime.datetime'>\n",
      "2002-10-02 00:00:00\n"
     ]
    }
   ],
   "source": [
    "from datetime import datetime\n",
    "The_Moscow_Times = 'Wednesday, October 2, 2002'\n",
    "The_Guardian = 'Friday, 11.10.13'\n",
    "Daily_News = 'Thursday, 18 August 1977'\n",
    "\n",
    "The_Moscow_Times_date = datetime.strptime( The_Moscow_Times, '%A, %B %d, %Y' )\n",
    "The_Guardian_date = datetime.strptime( The_Guardian, '%A, %d.%m.%y' )\n",
    "Daily_News_date = datetime.strptime( Daily_News, '%A, %d %B %Y' )\n",
    "\n",
    "print (type(The_Moscow_Times_date))\n",
    "print (The_Moscow_Times_date)"
   ]
  },
  {
   "cell_type": "markdown",
   "metadata": {},
   "source": [
    "Задание 2\n",
    "Дан поток дат в формате YYYY-MM-DD, в которых встречаются некорректные значения:\n",
    "stream = ['2018-04-02', '2018-02-29', '2018-19-02']\n",
    "\n",
    "Напишите функцию, которая проверяет эти даты на корректность. Т. е. для каждой даты возвращает True (дата корректна) или False (некорректная дата). "
   ]
  },
  {
   "cell_type": "code",
   "execution_count": null,
   "metadata": {},
   "outputs": [],
   "source": [
    "stream = ['2018-04-02', '2018-02-29', '2018-19-02']\n",
    "\n",
    "for date in stream:\n",
    "    try:\n",
    "        date = datetime.strptime ( date, '%Y-%m-%d' )\n",
    "        print( date, True )\n",
    "    except:\n",
    "        print( date, False )"
   ]
  },
  {
   "cell_type": "markdown",
   "metadata": {},
   "source": [
    "Задание 3\n",
    "Напишите функцию date_range, которая возвращает список дат за период от start_date до end_date. Даты должны вводиться в формате YYYY-MM-DD. В случае неверного формата или при start_date > end_date должен возвращаться пустой список."
   ]
  },
  {
   "cell_type": "code",
   "execution_count": 11,
   "metadata": {},
   "outputs": [
    {
     "name": "stdout",
     "output_type": "stream",
     "text": [
      "Введите первую дату в формате YYYY-MM-DD: 2019-06-11\n",
      "Введите вторую дату в формате YYYY-MM-DD: 2019-07-08\n",
      "['2019-06-11', '2019-06-12', '2019-06-13', '2019-06-14', '2019-06-15', '2019-06-16', '2019-06-17', '2019-06-18', '2019-06-19', '2019-06-20', '2019-06-21', '2019-06-22', '2019-06-23', '2019-06-24', '2019-06-25', '2019-06-26', '2019-06-27', '2019-06-28', '2019-06-29', '2019-06-30', '2019-07-01', '2019-07-02', '2019-07-03', '2019-07-04', '2019-07-05', '2019-07-06', '2019-07-07', '2019-07-08']\n"
     ]
    }
   ],
   "source": [
    "from datetime import timedelta\n",
    "dates_list = []\n",
    "def date_range ():\n",
    "    start_date = input('Введите первую дату в формате YYYY-MM-DD: ')\n",
    "    end_date = input('Введите вторую дату в формате YYYY-MM-DD: ')\n",
    "    try:\n",
    "        start_date_datetime = datetime.strptime ( start_date, '%Y-%m-%d' )\n",
    "        end_date_datetime = datetime.strptime ( end_date, '%Y-%m-%d' )\n",
    "        dates_list.append(start_date_datetime.strftime('%Y-%m-%d'))\n",
    "        date = start_date_datetime\n",
    "        while date < end_date_datetime:\n",
    "            date += timedelta(days = 1)\n",
    "            date_string = date.strftime('%Y-%m-%d')\n",
    "            dates_list.append(date_string)\n",
    "        print(dates_list)\n",
    "    except:\n",
    "        print('Неверный формат', dates_list)\n",
    "\n",
    "date_range ()"
   ]
  },
  {
   "cell_type": "markdown",
   "metadata": {},
   "source": [
    "Задание 4 (бонусное)\n",
    "Ваш коллега прислал код функции:\n",
    "\n",
    "DEFAULT_USER_COUNT = 3\n",
    "\n",
    "def delete_and_return_last_user(region, default_list=['A100', 'A101', 'A102']):\n",
    "    \"\"\"\n",
    "    Удаляет из списка default_list последнего пользователя \n",
    "    и возвращает ID нового последнего пользователя.\n",
    "    \"\"\"\n",
    "    element_to_delete = default_list[-1]\n",
    "    default_list.remove(element_to_delete)\n",
    "    \n",
    "    return default_list[DEFAULT_USER_COUNT-2]\n",
    "\n",
    "При однократном вызове этой функции все работает корректно:\n",
    "delete_and_return_last_user(1)\n",
    "'A101'\n",
    "\n",
    "Однако, при повторном вызове получается ошибка IndexError: list index out of range.\n",
    "\n",
    "Задание:\n",
    "1. Что значит ошибка list index out of range?\n",
    "2. Почему при первом запуске функция работает корректно, а при втором - нет?"
   ]
  },
  {
   "cell_type": "markdown",
   "metadata": {},
   "source": [
    "1. Индекс выходит за границы списка — элемента с таким индексом нет.\n",
    "2. Проблема в том, что коллега меняет список, по которому итерируется. При втором вызове функции в списке остается всего два элемента, поэтому элемента с индексом [-2] нет. "
   ]
  }
 ],
 "metadata": {
  "kernelspec": {
   "display_name": "Python 3",
   "language": "python",
   "name": "python3"
  },
  "language_info": {
   "codemirror_mode": {
    "name": "ipython",
    "version": 3
   },
   "file_extension": ".py",
   "mimetype": "text/x-python",
   "name": "python",
   "nbconvert_exporter": "python",
   "pygments_lexer": "ipython3",
   "version": "3.7.6"
  }
 },
 "nbformat": 4,
 "nbformat_minor": 4
}
