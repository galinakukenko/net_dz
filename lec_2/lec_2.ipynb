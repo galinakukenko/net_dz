{
 "cells": [
  {
   "cell_type": "markdown",
   "metadata": {},
   "source": [
    "**Задание 1**. Даны 2 строки: *long_phrase* и *short_phrase*. \n",
    "Напишите код, который проверяет действительно ли длинная фраза *long_phrase* длиннее короткой *short_phrase*. И выводит *True* или *False* в зависимости от результата сравнения."
   ]
  },
  {
   "cell_type": "code",
   "execution_count": null,
   "metadata": {},
   "outputs": [],
   "source": [
    "long_phrase = 'Насколько проще было бы писать программы, если бы не заказчики'\n",
    "short_phrase = '640Кб должно хватить для любых задач. Билл Гейтс (по легенде)'"
   ]
  },
  {
   "cell_type": "code",
   "execution_count": null,
   "metadata": {},
   "outputs": [],
   "source": [
    "long_phrase = 'Насколько проще было бы писать программы, если бы не заказчики'\n",
    "short_phrase = '640Кб должно хватить для любых задач. Билл Гейтс (по легенде)'\n",
    "if len(long_phrase) > len(short_phrase):\n",
    "    print ('True')\n",
    "else:\n",
    "    print ('False')"
   ]
  },
  {
   "cell_type": "markdown",
   "metadata": {},
   "source": [
    "**Задание 2**. Дано значение объема файла в байтах (*в мегабайте 2^20 байт*). Напишите перевод этого значения в мегабайты в формате: \"*Объем файла равен 213.68Mb*\"."
   ]
  },
  {
   "cell_type": "code",
   "execution_count": null,
   "metadata": {},
   "outputs": [],
   "source": [
    "file_size_byte = 1000000\n",
    "file_size_megabyte = file_size_byte / (2**20)\n",
    "print ('Объем файла равен', file_size_megabyte, 'Mb')"
   ]
  },
  {
   "cell_type": "markdown",
   "metadata": {},
   "source": [
    "**Задание 3**. Разработать приложение для определения знака зодиака по дате рождения. Пример:\n",
    "\n",
    "Введите месяц: март\n",
    "\n",
    "Введите число: 6\n",
    "\n",
    "Вывод:\n",
    "Рыбы"
   ]
  },
  {
   "cell_type": "code",
   "execution_count": null,
   "metadata": {},
   "outputs": [],
   "source": [
    "month = 'october'\n",
    "date = 24\n",
    "if ((month == 'march') and (date >= 21 and date <=31)) or ((month == 'april') and (date >= 1 and date <= 19)):\n",
    "    print ('Aries — Овен')\n",
    "elif ((month == 'april') and (date >= 20 and date <= 30)) or ((month == 'may') and (date >= 1 and date <= 20)):\n",
    "    print ('Taurus — Телец')\n",
    "elif ((month == 'may') and (date >= 21 and date <= 31)) or ((month == 'june') and (date >= 1 and date <= 20)):\n",
    "    print ('Gemini — Близнецы')\n",
    "elif ((month == 'june') and (date >= 21 and date <= 30)) or ((month == 'july') and (date >= 1 and date <= 22)):\n",
    "    print ('Cancer — Рак')\n",
    "elif ((month == 'july') and (date >= 23 and date <= 31)) or ((month == 'august') and (date >= 1 and date <= 22)):\n",
    "    print ('Leo — Лев')\n",
    "elif ((month == 'august') and (date >= 23 and date <= 31)) or ((month == 'september') and (date >= 1 and date <= 22)):\n",
    "    print ('Virgin — Дева')\n",
    "elif ((month == 'september') and (date >= 23 and date <= 30)) or ((month == 'october') and (date >= 1 and date <= 22)):\n",
    "    print ('Libra — Весы')\n",
    "elif ((month == 'october') and (date >= 23 and date <= 31)) or ((month == 'november') and (date >= 1 and date <= 21)):\n",
    "    print ('Scorpius — Скорпион')\n",
    "elif ((month == 'november') and (date >= 22 and date <= 30)) or ((month == 'december') and (date >= 1 and date <= 21)):\n",
    "    print ('Sagittarius — Стрелец')\n",
    "elif ((month == 'december') and (date >= 22 and date <= 31)) or ((month == 'january') and (date >= 1 and date <= 19)):\n",
    "    print ('Capricornus — Козерог')\n",
    "elif ((month == 'january') and (date >= 20 and date <= 31)) or ((month == 'february') and (date >= 1 and date <= 18)):\n",
    "    print ('Aquarius — Водолей')\n",
    "elif ((month == 'february') and (date >= 19 and date <= 29)) or ((month == 'march') and (date >= 1 and date <= 20)):\n",
    "    print ('Pisces — Рыбы')\n",
    "else:\n",
    "    print ('Invalid date')"
   ]
  },
  {
   "cell_type": "markdown",
   "metadata": {},
   "source": [
    "**Задание 4**. Нужно разработать приложение для финансового планирования.\n",
    "Приложение учитывает сколько уходит на ипотеку, \"на жизнь\" и сколько нужно отложить на пенсию.\n",
    "Пользователь вводит:\n",
    "- заработанную плату в месяц.\n",
    "- сколько процентов от ЗП уходит на ипотеку.\n",
    "- сколько процентов от ЗП уходит \"на жизнь\".\n",
    "- сколько раз приходит премия в год.\n",
    "\n",
    "Остальная часть заработанной платы откладывается на пенсию.\n",
    "\n",
    "Также пользователю приходит премия в размере зарплаты, от которой половина уходит на отпуск, а вторая половина откладывается.\n",
    "\n",
    "Программа должна учитывать сколько премий было в год.\n",
    "\n",
    "Нужно вывести сколько денег тратит пользователь на ипотеку и сколько он накопит за год.\n",
    "\n",
    "Пример:\n",
    "\n",
    "Введите заработанную плату в месяц: 100000\n",
    "\n",
    "Введите сколько процентов уходит на ипотеку: 30\n",
    "\n",
    "Введите сколько процентов уходит на жизнь: 50\n",
    "\n",
    "Введите количество премий за год: 2\n",
    "\n",
    "Вывод:\n",
    "На ипотеку было потрачено: 360000 рублей\n",
    "Было накоплено: 340000 рублей"
   ]
  },
  {
   "cell_type": "code",
   "execution_count": null,
   "metadata": {},
   "outputs": [],
   "source": [
    "monthly_salary = 100000\n",
    "mortgage_percent_of_salary = 30\n",
    "daily_spending_percent_of_salary = 50\n",
    "bonuses_per_year = 2\n",
    "\n",
    "mortgage = ((monthly_salary / 100) * mortgage_percent_of_salary) * 12\n",
    "pension = (monthly_salary * 12) - (((monthly_salary / 100) * daily_spending_percent_of_salary) * 12) - mortgage + ((monthly_salary * bonuses_per_year) / 2)\n",
    "\n",
    "print ('Потратили на ипотеку:', mortgage, 'рублей')\n",
    "print ('Накопили:', pension, 'рублей')"
   ]
  }
 ],
 "metadata": {
  "kernelspec": {
   "display_name": "Python 3",
   "language": "python",
   "name": "python3"
  },
  "language_info": {
   "codemirror_mode": {
    "name": "ipython",
    "version": 3
   },
   "file_extension": ".py",
   "mimetype": "text/x-python",
   "name": "python",
   "nbconvert_exporter": "python",
   "pygments_lexer": "ipython3",
   "version": "3.7.6"
  }
 },
 "nbformat": 4,
 "nbformat_minor": 2
}
