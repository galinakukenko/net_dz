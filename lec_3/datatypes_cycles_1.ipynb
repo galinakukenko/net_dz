{
 "cells": [
  {
   "cell_type": "markdown",
   "metadata": {},
   "source": [
    "**Задача 1**. Дано слово из латинских букв. Напишите скрипт, который выводит на экран букву из середины слова (если число букв нечетное). Если букв четное число, то на экран выводятся две буквы из середины.  \n",
    "\n",
    "Пример: для 'test' должно выводится 'es', для 'testing' - 't'"
   ]
  },
  {
   "cell_type": "code",
   "execution_count": 7,
   "metadata": {},
   "outputs": [
    {
     "name": "stdout",
     "output_type": "stream",
     "text": [
      "es\n"
     ]
    }
   ],
   "source": [
    "word = 'test'\n",
    "length = len(word)\n",
    "if length % 2 != 0:\n",
    "    center = int((len(word) - 1) / 2)\n",
    "    print (word[center])\n",
    "else:\n",
    "    center_2 = int((len(word) / 2) + 1)\n",
    "    center_1 = int((len(word) / 2) - 1)\n",
    "    print (word[center_1:center_2])"
   ]
  },
  {
   "cell_type": "markdown",
   "metadata": {},
   "source": [
    "**Задача 2**. Мы делаем MVP dating-сервиса, и у нас есть список парней и девушек (их число может варьироваться):"
   ]
  },
  {
   "cell_type": "markdown",
   "metadata": {},
   "source": [
    "Выдвигаем гипотезу: лучшие рекомендации мы получим, если просто отсортируем имена по алфавиту и познакомим людей с одинаковыми индексами после сортировки! \"Познакомить\" пары нам поможет функция zip, а в цикле распакуем zip-объект и выведем информацию в виде:\n",
    "\n",
    "Идеальные пары:  \n",
    "Alex и Emma  \n",
    "Arthur и Kate  \n",
    "John и Kira  \n",
    "Peter и Liza  \n",
    "Richard и Trisha  "
   ]
  },
  {
   "cell_type": "markdown",
   "metadata": {},
   "source": [
    "**Внимание! Если количество людей в списках будет не совпадать, то мы никого знакомить не будет и выведем пользователю предупреждение, что кто-то может остаться без пары!**"
   ]
  },
  {
   "cell_type": "code",
   "execution_count": 6,
   "metadata": {},
   "outputs": [
    {
     "name": "stdout",
     "output_type": "stream",
     "text": [
      "-Perfect dates-\n",
      "Alex and Emma\n",
      "Arthur and Kate\n",
      "John and Kira\n",
      "Peter and Liza\n",
      "Richard and Trisha\n"
     ]
    }
   ],
   "source": [
    "boys = set(['Peter', 'Alex', 'John', 'Arthur', 'Richard'])\n",
    "girls = set(['Kate', 'Liza', 'Kira', 'Emma', 'Trisha'])\n",
    "pairs = zip(sorted(boys), sorted(girls))\n",
    "\n",
    "if len(boys) != len(girls):\n",
    "    print ('Unfortunately, no dates today')\n",
    "else:\n",
    "    print ('-Perfect dates-')\n",
    "    for pair in pairs:\n",
    "        print (pair[0], 'and', pair[1])"
   ]
  },
  {
   "cell_type": "markdown",
   "metadata": {},
   "source": [
    "**Задача 3**. У нас есть список, содержащий информацию о среднедневной температуре в Фаренгейтах за недельный период по странам.\n",
    "Необходимо написать код, который рассчитает среднюю температуру за неделю в Цельсиях для каждой страны."
   ]
  },
  {
   "cell_type": "code",
   "execution_count": 5,
   "metadata": {},
   "outputs": [
    {
     "name": "stdout",
     "output_type": "stream",
     "text": [
      "Thailand 23.9°C\n",
      "Germany 13.7°C\n",
      "Russia 3.7°C\n",
      "Poland 11.9°C\n"
     ]
    }
   ],
   "source": [
    "countries_temperature = [\n",
    " ['Thailand', [75.2, 77, 78.8, 73.4, 68, 75.2, 77]],\n",
    " ['Germany', [57.2, 55.4, 59, 59, 53.6, 55.4, 57.2]],\n",
    " ['Russia', [35.6, 37.4, 39.2, 41, 42.8, 39.2, 35.6]],\n",
    " ['Poland', [50, 50, 53.6, 57.2, 55.4, 55.4, 51.8]],\n",
    "]\n",
    "\n",
    "for temperature in countries_temperature:\n",
    "    average_temperature = ((sum(temperature[1]) / len(temperature[1])) - 32) * (5 / 9)\n",
    "    average_temperature = round(average_temperature, 1)\n",
    "    print (temperature[0], str(average_temperature) + '°C')"
   ]
  },
  {
   "cell_type": "markdown",
   "metadata": {},
   "source": [
    "**Задача 4.** Дан поток логов по количеству просмотренных страниц для каждого пользователя. Список отсортирован по ID пользователя. Вам необходимо написать алгоритм, который считает среднее значение просмотров на пользователя. \n",
    "Т. е. надо посчитать отношение суммы всех просмотров к количеству уникальных пользователей."
   ]
  },
  {
   "cell_type": "code",
   "execution_count": 4,
   "metadata": {},
   "outputs": [
    {
     "name": "stdout",
     "output_type": "stream",
     "text": [
      "Total Views: 3\n",
      "Unique Users: 1\n",
      "Average Views: 3\n",
      "---\n",
      "Total Views: 7\n",
      "Unique Users: 1\n",
      "Average Views: 7\n",
      "---\n",
      "Total Views: 8\n",
      "Unique Users: 1\n",
      "Average Views: 8\n",
      "---\n",
      "Total Views: 21\n",
      "Unique Users: 1\n",
      "Average Views: 21\n",
      "---\n",
      "Total Views: 28\n",
      "Unique Users: 2\n",
      "Average Views: 14\n",
      "---\n",
      "Total Views: 32\n",
      "Unique Users: 3\n",
      "Average Views: 10\n",
      "---\n",
      "Total Views: 42\n",
      "Unique Users: 3\n",
      "Average Views: 14\n",
      "---\n",
      "Total Views: 61\n",
      "Unique Users: 4\n",
      "Average Views: 15\n",
      "---\n",
      "Total Views: 65\n",
      "Unique Users: 4\n",
      "Average Views: 16\n",
      "---\n",
      "Total Views: 73\n",
      "Unique Users: 4\n",
      "Average Views: 18\n",
      "---\n",
      "Total Views: 82\n",
      "Unique Users: 4\n",
      "Average Views: 20\n",
      "---\n",
      "Total Views: 93\n",
      "Unique Users: 4\n",
      "Average Views: 23\n",
      "---\n"
     ]
    }
   ],
   "source": [
    "stream = [\n",
    "    '2018-01-01,user1,3',\n",
    "    '2018-01-07,user1,4',\n",
    "    '2018-03-29,user1,1',\n",
    "    '2018-04-04,user1,13',\n",
    "    '2018-01-05,user2,7',\n",
    "    '2018-06-14,user3,4',\n",
    "    '2018-07-02,user3,10',\n",
    "    '2018-03-21,user4,19',\n",
    "    '2018-03-22,user4,4',\n",
    "    '2018-04-22,user4,8',\n",
    "    '2018-05-03,user4,9',\n",
    "    '2018-05-11,user4,11',\n",
    "]\n",
    "\n",
    "views = 0\n",
    "user_id = []\n",
    "\n",
    "for user in stream:\n",
    "    new_user = user.split(',')\n",
    "    views = views + int(new_user[2])\n",
    "    print('Total Views:', views)\n",
    "    if new_user[1] in user_id:\n",
    "        print ('Unique Users:', len(user_id))\n",
    "        pass\n",
    "    else:\n",
    "        user_id.append(new_user[1])\n",
    "        print ('Unique Users:', len(user_id))\n",
    "    average_views = int(views / len(user_id))\n",
    "    print ('Average Views:', average_views)\n",
    "    print ('---')"
   ]
  },
  {
   "cell_type": "markdown",
   "metadata": {},
   "source": [
    "**Задача 5**. Дана статистика рекламных кампаний по дням. Напишите алгоритм, который по паре дата-кампания ищет значение численного столбца. \n",
    "Т. е. для даты '2018-01-01' и 'google' нужно получить число 25. \n",
    "Считайте, что все комбинации дата-кампания уникальны."
   ]
  },
  {
   "cell_type": "code",
   "execution_count": 3,
   "metadata": {},
   "outputs": [
    {
     "name": "stdout",
     "output_type": "stream",
     "text": [
      "yyyy–mm-dd: 2018-01-03\n",
      "platform: yandex\n",
      "result: 1327\n"
     ]
    }
   ],
   "source": [
    "stats = [\n",
    "    ['2018-01-01', 'google', 25],\n",
    "    ['2018-01-01', 'yandex', 65],\n",
    "    ['2018-01-01', 'market', 89],\n",
    "    ['2018-01-02', 'google', 574],\n",
    "    ['2018-01-02', 'yandex', 249],\n",
    "    ['2018-01-02', 'market', 994],\n",
    "    ['2018-01-03', 'google', 1843],\n",
    "    ['2018-01-03', 'yandex', 1327],\n",
    "    ['2018-01-03', 'market', 1764],\n",
    "]\n",
    "\n",
    "date = input('yyyy–mm-dd: ')\n",
    "platform = input('platform: ')\n",
    "\n",
    "for campaign in stats:\n",
    "    if date == campaign[0] and platform == campaign[1]:\n",
    "        print('result:', campaign[2])\n",
    "    else:\n",
    "        continue"
   ]
  },
  {
   "cell_type": "markdown",
   "metadata": {},
   "source": [
    "**Задача 6**. Дан список вида:"
   ]
  },
  {
   "cell_type": "code",
   "execution_count": null,
   "metadata": {},
   "outputs": [],
   "source": [
    "data = [\n",
    "    [13, 25, 23, 34],\n",
    "    [45, 32, 44, 47],\n",
    "    [12, 33, 23, 95],\n",
    "    [13, 53, 34, 35]\n",
    "]"
   ]
  },
  {
   "cell_type": "markdown",
   "metadata": {},
   "source": [
    "Напишите код, который будет вычислять сумму элементов на диагонали. Т. е. 13+32+23+35.  \n",
    "Список может быть любой длины, но всегда является \"квадратным\" (количество элементов во вложенных списках равно их количеству)."
   ]
  },
  {
   "cell_type": "code",
   "execution_count": 2,
   "metadata": {},
   "outputs": [
    {
     "name": "stdout",
     "output_type": "stream",
     "text": [
      "13\n",
      "45\n",
      "68\n",
      "103\n"
     ]
    }
   ],
   "source": [
    "data = [\n",
    "    [13, 25, 23, 34],\n",
    "    [45, 32, 44, 47],\n",
    "    [12, 33, 23, 95],\n",
    "    [13, 53, 34, 35]\n",
    "]\n",
    "\n",
    "result = 0\n",
    "\n",
    "for i, element in enumerate(data):\n",
    "    result = result + element[i]\n",
    "    print(result)"
   ]
  }
 ],
 "metadata": {
  "kernelspec": {
   "display_name": "Python 3",
   "language": "python",
   "name": "python3"
  },
  "language_info": {
   "codemirror_mode": {
    "name": "ipython",
    "version": 3
   },
   "file_extension": ".py",
   "mimetype": "text/x-python",
   "name": "python",
   "nbconvert_exporter": "python",
   "pygments_lexer": "ipython3",
   "version": "3.7.6"
  }
 },
 "nbformat": 4,
 "nbformat_minor": 2
}
